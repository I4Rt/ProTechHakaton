{
 "cells": [
  {
   "cell_type": "code",
   "execution_count": 84,
   "id": "d2b945a5-8251-45fe-b653-1f5aa26ce449",
   "metadata": {},
   "outputs": [],
   "source": [
    "import pandas as pd\n",
    "import seaborn as sns\n",
    "import numpy as np\n",
    "import os\n",
    "import math\n",
    "import random"
   ]
  },
  {
   "cell_type": "code",
   "execution_count": 63,
   "id": "b25ae337-55ab-458b-bb1e-0e8cc22ae657",
   "metadata": {},
   "outputs": [],
   "source": [
    "PARAM_NAMES = [f'PARAM_{i}' for i in range(44)]"
   ]
  },
  {
   "cell_type": "code",
   "execution_count": 2,
   "id": "3625933f-ab8c-46cc-94ab-8d4afe3a7848",
   "metadata": {},
   "outputs": [],
   "source": [
    "DATA_DIRECTORY = 'raw_data'\n",
    "data_files_list = os.listdir(DATA_DIRECTORY)[1:]\n"
   ]
  },
  {
   "cell_type": "code",
   "execution_count": 3,
   "id": "6ec6d1fd-c4db-4037-a2e6-7f2a1e2b6770",
   "metadata": {},
   "outputs": [],
   "source": [
    "raw_data = []\n",
    "for filename in data_files_list:\n",
    "    raw_data.append( pd.read_csv(f'{DATA_DIRECTORY}/{filename}', sep=';') )\n"
   ]
  },
  {
   "cell_type": "code",
   "execution_count": 4,
   "id": "55e00544-2132-49d2-83c7-5b486313cf70",
   "metadata": {},
   "outputs": [
    {
     "data": {
      "text/html": [
       "<div>\n",
       "<style scoped>\n",
       "    .dataframe tbody tr th:only-of-type {\n",
       "        vertical-align: middle;\n",
       "    }\n",
       "\n",
       "    .dataframe tbody tr th {\n",
       "        vertical-align: top;\n",
       "    }\n",
       "\n",
       "    .dataframe thead th {\n",
       "        text-align: right;\n",
       "    }\n",
       "</style>\n",
       "<table border=\"1\" class=\"dataframe\">\n",
       "  <thead>\n",
       "    <tr style=\"text-align: right;\">\n",
       "      <th></th>\n",
       "      <th>DATE_ID</th>\n",
       "      <th>PARAM_0</th>\n",
       "      <th>PARAM_1</th>\n",
       "      <th>PARAM_2</th>\n",
       "      <th>PARAM_3</th>\n",
       "      <th>PARAM_4</th>\n",
       "      <th>PARAM_5</th>\n",
       "      <th>PARAM_6</th>\n",
       "      <th>PARAM_7</th>\n",
       "      <th>PARAM_8</th>\n",
       "      <th>...</th>\n",
       "      <th>PARAM_40</th>\n",
       "      <th>PARAM_41</th>\n",
       "      <th>PARAM_42</th>\n",
       "      <th>PARAM_43</th>\n",
       "      <th>Y_0</th>\n",
       "      <th>Y_1</th>\n",
       "      <th>Y_2</th>\n",
       "      <th>Y_3</th>\n",
       "      <th>Y_4</th>\n",
       "      <th>Y_5</th>\n",
       "    </tr>\n",
       "  </thead>\n",
       "  <tbody>\n",
       "    <tr>\n",
       "      <th>0</th>\n",
       "      <td>0</td>\n",
       "      <td>0.942041</td>\n",
       "      <td>0.673650</td>\n",
       "      <td>0.189707</td>\n",
       "      <td>0.861813</td>\n",
       "      <td>1.000000</td>\n",
       "      <td>0.271811</td>\n",
       "      <td>0.910869</td>\n",
       "      <td>0.180069</td>\n",
       "      <td>0.186220</td>\n",
       "      <td>...</td>\n",
       "      <td>0.936961</td>\n",
       "      <td>0.669668</td>\n",
       "      <td>0.468071</td>\n",
       "      <td>0.410538</td>\n",
       "      <td>0</td>\n",
       "      <td>0</td>\n",
       "      <td>0</td>\n",
       "      <td>0</td>\n",
       "      <td>0</td>\n",
       "      <td>0</td>\n",
       "    </tr>\n",
       "    <tr>\n",
       "      <th>1</th>\n",
       "      <td>1</td>\n",
       "      <td>0.950638</td>\n",
       "      <td>0.712803</td>\n",
       "      <td>0.483257</td>\n",
       "      <td>0.871671</td>\n",
       "      <td>0.649818</td>\n",
       "      <td>0.331050</td>\n",
       "      <td>0.927371</td>\n",
       "      <td>0.201512</td>\n",
       "      <td>0.479871</td>\n",
       "      <td>...</td>\n",
       "      <td>0.671885</td>\n",
       "      <td>0.508419</td>\n",
       "      <td>0.484890</td>\n",
       "      <td>0.437528</td>\n",
       "      <td>0</td>\n",
       "      <td>0</td>\n",
       "      <td>0</td>\n",
       "      <td>0</td>\n",
       "      <td>0</td>\n",
       "      <td>0</td>\n",
       "    </tr>\n",
       "    <tr>\n",
       "      <th>2</th>\n",
       "      <td>2</td>\n",
       "      <td>0.989547</td>\n",
       "      <td>0.766842</td>\n",
       "      <td>0.609329</td>\n",
       "      <td>0.888103</td>\n",
       "      <td>0.445850</td>\n",
       "      <td>0.402025</td>\n",
       "      <td>0.911342</td>\n",
       "      <td>0.164514</td>\n",
       "      <td>0.606200</td>\n",
       "      <td>...</td>\n",
       "      <td>0.462499</td>\n",
       "      <td>0.667019</td>\n",
       "      <td>0.411059</td>\n",
       "      <td>0.417655</td>\n",
       "      <td>0</td>\n",
       "      <td>0</td>\n",
       "      <td>0</td>\n",
       "      <td>0</td>\n",
       "      <td>0</td>\n",
       "      <td>0</td>\n",
       "    </tr>\n",
       "    <tr>\n",
       "      <th>3</th>\n",
       "      <td>3</td>\n",
       "      <td>0.959051</td>\n",
       "      <td>0.597957</td>\n",
       "      <td>0.629704</td>\n",
       "      <td>0.924190</td>\n",
       "      <td>0.501116</td>\n",
       "      <td>0.413762</td>\n",
       "      <td>0.953067</td>\n",
       "      <td>0.161086</td>\n",
       "      <td>0.627351</td>\n",
       "      <td>...</td>\n",
       "      <td>0.463806</td>\n",
       "      <td>0.724389</td>\n",
       "      <td>0.354811</td>\n",
       "      <td>0.343813</td>\n",
       "      <td>0</td>\n",
       "      <td>0</td>\n",
       "      <td>0</td>\n",
       "      <td>0</td>\n",
       "      <td>0</td>\n",
       "      <td>0</td>\n",
       "    </tr>\n",
       "    <tr>\n",
       "      <th>4</th>\n",
       "      <td>4</td>\n",
       "      <td>0.938857</td>\n",
       "      <td>0.601864</td>\n",
       "      <td>0.469477</td>\n",
       "      <td>0.924190</td>\n",
       "      <td>0.619562</td>\n",
       "      <td>0.359712</td>\n",
       "      <td>0.978311</td>\n",
       "      <td>0.317954</td>\n",
       "      <td>0.466985</td>\n",
       "      <td>...</td>\n",
       "      <td>0.518529</td>\n",
       "      <td>0.800098</td>\n",
       "      <td>0.435762</td>\n",
       "      <td>0.388015</td>\n",
       "      <td>0</td>\n",
       "      <td>0</td>\n",
       "      <td>0</td>\n",
       "      <td>0</td>\n",
       "      <td>0</td>\n",
       "      <td>0</td>\n",
       "    </tr>\n",
       "  </tbody>\n",
       "</table>\n",
       "<p>5 rows × 51 columns</p>\n",
       "</div>"
      ],
      "text/plain": [
       "   DATE_ID   PARAM_0   PARAM_1   PARAM_2   PARAM_3   PARAM_4   PARAM_5  \\\n",
       "0        0  0.942041  0.673650  0.189707  0.861813  1.000000  0.271811   \n",
       "1        1  0.950638  0.712803  0.483257  0.871671  0.649818  0.331050   \n",
       "2        2  0.989547  0.766842  0.609329  0.888103  0.445850  0.402025   \n",
       "3        3  0.959051  0.597957  0.629704  0.924190  0.501116  0.413762   \n",
       "4        4  0.938857  0.601864  0.469477  0.924190  0.619562  0.359712   \n",
       "\n",
       "    PARAM_6   PARAM_7   PARAM_8  ...  PARAM_40  PARAM_41  PARAM_42  PARAM_43  \\\n",
       "0  0.910869  0.180069  0.186220  ...  0.936961  0.669668  0.468071  0.410538   \n",
       "1  0.927371  0.201512  0.479871  ...  0.671885  0.508419  0.484890  0.437528   \n",
       "2  0.911342  0.164514  0.606200  ...  0.462499  0.667019  0.411059  0.417655   \n",
       "3  0.953067  0.161086  0.627351  ...  0.463806  0.724389  0.354811  0.343813   \n",
       "4  0.978311  0.317954  0.466985  ...  0.518529  0.800098  0.435762  0.388015   \n",
       "\n",
       "   Y_0  Y_1  Y_2  Y_3  Y_4  Y_5  \n",
       "0    0    0    0    0    0    0  \n",
       "1    0    0    0    0    0    0  \n",
       "2    0    0    0    0    0    0  \n",
       "3    0    0    0    0    0    0  \n",
       "4    0    0    0    0    0    0  \n",
       "\n",
       "[5 rows x 51 columns]"
      ]
     },
     "execution_count": 4,
     "metadata": {},
     "output_type": "execute_result"
    }
   ],
   "source": [
    "raw_data[0].head()"
   ]
  },
  {
   "cell_type": "code",
   "execution_count": 5,
   "id": "437f53e1-c101-4e7d-ac3b-3f6dc0a87b4b",
   "metadata": {},
   "outputs": [],
   "source": [
    "raw_data_evented = [ [] for i in range(6)]\n",
    "\n",
    "for data in raw_data:\n",
    "    for i in range(6):\n",
    "        if len(data[data[f'Y_{i}'] == 1]) :\n",
    "            raw_data_evented[i].append(data)"
   ]
  },
  {
   "cell_type": "code",
   "execution_count": 6,
   "id": "915ed3f0-034c-4676-b3e0-ea5a0f2c8106",
   "metadata": {},
   "outputs": [],
   "source": [
    "# search_file_index = 2\n",
    "# raw_data[search_file_index][(raw_data[search_file_index]['Y_0'] == 1) | \n",
    "#             (raw_data[search_file_index]['Y_1'] == 1) | \n",
    "#             (raw_data[search_file_index]['Y_2'] == 1) |\n",
    "#             (raw_data[search_file_index]['Y_3'] == 1) |\n",
    "#             (raw_data[search_file_index]['Y_4'] == 1) |\n",
    "#             (raw_data[search_file_index]['Y_5'] == 1) \n",
    "# ]"
   ]
  },
  {
   "cell_type": "code",
   "execution_count": 7,
   "id": "1e4ad18a-0deb-41c4-a869-a810df7140ba",
   "metadata": {},
   "outputs": [
    {
     "data": {
      "text/plain": [
       "[100, 98, 163, 6, 65, 161]"
      ]
     },
     "execution_count": 7,
     "metadata": {},
     "output_type": "execute_result"
    }
   ],
   "source": [
    "[len(data) for data in raw_data_evented]"
   ]
  },
  {
   "cell_type": "code",
   "execution_count": 8,
   "id": "8f669764-062c-4efb-af18-42efa5211cdf",
   "metadata": {},
   "outputs": [
    {
     "data": {
      "text/plain": [
       "247"
      ]
     },
     "execution_count": 8,
     "metadata": {},
     "output_type": "execute_result"
    }
   ],
   "source": [
    "len(raw_data)"
   ]
  },
  {
   "cell_type": "code",
   "execution_count": 120,
   "id": "0336d810-7ee7-440f-bf9a-a38cbcdc25df",
   "metadata": {},
   "outputs": [],
   "source": [
    "event_0_dataset = raw_data_evented[0].copy()\n",
    "event_1_dataset = raw_data_evented[1].copy()\n",
    "event_2_dataset = raw_data_evented[2].copy()\n",
    "event_3_dataset = raw_data_evented[3].copy()\n",
    "event_4_dataset = raw_data_evented[4].copy()\n",
    "event_5_dataset = raw_data_evented[5].copy()"
   ]
  },
  {
   "cell_type": "code",
   "execution_count": 123,
   "id": "730d02cc-2865-47da-832a-5ae42acfc927",
   "metadata": {},
   "outputs": [],
   "source": [
    "point_one_data = event_2_dataset[8].replace(np.nan, 0)\n",
    "param_data     = point_one_data[PARAM_NAMES]\n",
    "events         = point_one_data['Y_2']"
   ]
  },
  {
   "cell_type": "code",
   "execution_count": 124,
   "id": "b89ef673-eef9-4d29-9688-9dd23d65e608",
   "metadata": {},
   "outputs": [
    {
     "data": {
      "text/plain": [
       "<Axes: >"
      ]
     },
     "execution_count": 124,
     "metadata": {},
     "output_type": "execute_result"
    },
    {
     "data": {
      "image/png": "[encoded data removed]",
      "text/plain": [
       "<Figure size 640x480 with 2 Axes>"
      ]
     },
     "metadata": {},
     "output_type": "display_data"
    }
   ],
   "source": [
    "dif_data = []\n",
    "for line_id in range(1, len(point_one_data)):\n",
    "    res = point_one_data.iloc[line_id, 1:-6] / (point_one_data.iloc[line_id-1,1:-6]+point_one_data.iloc[line_id, 1:-6])\n",
    "    res.to_numpy()\n",
    "    dif_data.append(res)\n",
    "\n",
    "\n",
    "dif_data = pd.DataFrame(np.array(dif_data))\n",
    "dif_data[44] = events.to_numpy()[1:]\n",
    "corr_map = dif_data.corr()[[44, ]]\n",
    "sns.heatmap(corr_map[corr_map[44] > 0.1], annot=True)"
   ]
  },
  {
   "cell_type": "code",
   "execution_count": 130,
   "id": "99715275-515c-4479-a069-445ff5e321ea",
   "metadata": {},
   "outputs": [
    {
     "data": {
      "image/png": "[encoded data removed]",
      "text/plain": [
       "<Figure size 640x480 with 2 Axes>"
      ]
     },
     "metadata": {},
     "output_type": "display_data"
    }
   ],
   "source": [
    "index = 0\n",
    "SELECTOR_COUNT = 3\n",
    "\n",
    "corr_Y_5 = event_5_dataset[index].corr()\n",
    "ax = sns.heatmap(corr_Y_5[abs(corr_Y_5['Y_5']) > .1][['Y_5', ]], annot=True)\n",
    "    \n",
    "    "
   ]
  },
  {
   "cell_type": "code",
   "execution_count": 53,
   "id": "2c9d4f0c-9791-4468-a373-4cbb580f7c80",
   "metadata": {},
   "outputs": [
    {
     "ename": "AttributeError",
     "evalue": "'int' object has no attribute 'corr'",
     "output_type": "error",
     "traceback": [
      "\u001b[1;31m---------------------------------------------------------------------------\u001b[0m",
      "\u001b[1;31mAttributeError\u001b[0m                            Traceback (most recent call last)",
      "Cell \u001b[1;32mIn[53], line 6\u001b[0m\n\u001b[0;32m      2\u001b[0m chain_lenght \u001b[38;5;241m=\u001b[39m \u001b[38;5;241m5\u001b[39m\n\u001b[0;32m      4\u001b[0m chain_sum \u001b[38;5;241m=\u001b[39m \u001b[38;5;28msum\u001b[39m(event_3_dataset[start_index:start_index\u001b[38;5;241m+\u001b[39mchain_lenght])\n\u001b[1;32m----> 6\u001b[0m corr_Y_0 \u001b[38;5;241m=\u001b[39m \u001b[43mchain_sum\u001b[49m\u001b[38;5;241;43m.\u001b[39;49m\u001b[43mcorr\u001b[49m()\n\u001b[0;32m      7\u001b[0m ax \u001b[38;5;241m=\u001b[39m sns\u001b[38;5;241m.\u001b[39mheatmap(corr_Y_0[\u001b[38;5;28mabs\u001b[39m(corr_Y_0[\u001b[38;5;124m'\u001b[39m\u001b[38;5;124mY_3\u001b[39m\u001b[38;5;124m'\u001b[39m]) \u001b[38;5;241m>\u001b[39m \u001b[38;5;241m.2\u001b[39m][[\u001b[38;5;124m'\u001b[39m\u001b[38;5;124mY_3\u001b[39m\u001b[38;5;124m'\u001b[39m, ]], annot\u001b[38;5;241m=\u001b[39m\u001b[38;5;28;01mTrue\u001b[39;00m)\n",
      "\u001b[1;31mAttributeError\u001b[0m: 'int' object has no attribute 'corr'"
     ]
    }
   ],
   "source": [
    "start_index = 20\n",
    "chain_lenght = 5\n",
    "\n",
    "chain_sum = event_3_dataset[start_index:start_index+chain_lenght]\n",
    "\n",
    "corr_Y_0 = chain_sum.corr()\n",
    "ax = sns.heatmap(corr_Y_0[abs(corr_Y_0['Y_3']) > .2][['Y_3', ]], annot=True)\n",
    "    "
   ]
  },
  {
   "cell_type": "code",
   "execution_count": null,
   "id": "865e99be-7cf5-472a-95e7-a2b52997d894",
   "metadata": {},
   "outputs": [],
   "source": []
  }
 ],
 "metadata": {
  "kernelspec": {
   "display_name": "protech_hakaton",
   "language": "python",
   "name": "protech_hakaton"
  },
  "language_info": {
   "codemirror_mode": {
    "name": "ipython",
    "version": 3
   },
   "file_extension": ".py",
   "mimetype": "text/x-python",
   "name": "python",
   "nbconvert_exporter": "python",
   "pygments_lexer": "ipython3",
   "version": "3.11.3"
  }
 },
 "nbformat": 4,
 "nbformat_minor": 5
}
